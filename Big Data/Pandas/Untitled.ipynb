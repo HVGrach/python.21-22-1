{
 "cells": [
  {
   "cell_type": "code",
   "execution_count": 33,
   "id": "1ced51d2",
   "metadata": {},
   "outputs": [],
   "source": [
    "import pandas as pd\n",
    "import numpy as np\n",
    "import datetime "
   ]
  },
  {
   "cell_type": "code",
   "execution_count": 54,
   "id": "91116c29",
   "metadata": {},
   "outputs": [],
   "source": [
    "ser1 = pd.Series([1,2,3,4])"
   ]
  },
  {
   "cell_type": "code",
   "execution_count": 55,
   "id": "9c6c0d74",
   "metadata": {
    "scrolled": true
   },
   "outputs": [
    {
     "data": {
      "text/plain": [
       "0    1\n",
       "1    2\n",
       "2    3\n",
       "3    4\n",
       "dtype: int64"
      ]
     },
     "execution_count": 55,
     "metadata": {},
     "output_type": "execute_result"
    }
   ],
   "source": [
    "ser1"
   ]
  },
  {
   "cell_type": "code",
   "execution_count": 58,
   "id": "9258b102",
   "metadata": {},
   "outputs": [
    {
     "data": {
      "text/plain": [
       "a    Саша\n",
       "b    Маша\n",
       "c    Паша\n",
       "dtype: object"
      ]
     },
     "execution_count": 58,
     "metadata": {},
     "output_type": "execute_result"
    }
   ],
   "source": [
    "ser2 = pd.Series([\"Саша\",\"Маша\",\"Паша\"], index=['a','b','c'])\n",
    "ser2"
   ]
  },
  {
   "cell_type": "code",
   "execution_count": 75,
   "id": "6f8bf54f",
   "metadata": {},
   "outputs": [
    {
     "data": {
      "text/plain": [
       "DatetimeIndex(['2021-01-01', '2021-01-02', '2021-01-03', '2021-01-04',\n",
       "               '2021-01-05'],\n",
       "              dtype='datetime64[ns]', freq='D')"
      ]
     },
     "execution_count": 75,
     "metadata": {},
     "output_type": "execute_result"
    }
   ],
   "source": [
    "dates = pd.date_range('2021-01-01', '2021-01-05')\n",
    "dates"
   ]
  },
  {
   "cell_type": "code",
   "execution_count": 78,
   "id": "97b6dec6",
   "metadata": {},
   "outputs": [],
   "source": [
    "birds=pd.Series(['Bingo', 'Marko', 'Chell', 'Pizdoжopik', 'Oleg'], index = dates)"
   ]
  },
  {
   "cell_type": "code",
   "execution_count": 79,
   "id": "09881f5b",
   "metadata": {},
   "outputs": [
    {
     "data": {
      "text/plain": [
       "2021-01-01         Bingo\n",
       "2021-01-02         Marko\n",
       "2021-01-03         Chell\n",
       "2021-01-04    Pizdoжopik\n",
       "2021-01-05          Oleg\n",
       "Freq: D, dtype: object"
      ]
     },
     "execution_count": 79,
     "metadata": {},
     "output_type": "execute_result"
    }
   ],
   "source": [
    "birds"
   ]
  },
  {
   "cell_type": "code",
   "execution_count": 80,
   "id": "aad7fd89",
   "metadata": {},
   "outputs": [],
   "source": [
    "temp1=pd.Series([-12,3,4,17,-228], index=dates)\n",
    "temp2=pd.Series([56,-74,-433, 89,69], index=dates)"
   ]
  },
  {
   "cell_type": "code",
   "execution_count": 81,
   "id": "8ecdbd31",
   "metadata": {},
   "outputs": [
    {
     "data": {
      "text/plain": [
       "(2021-01-01    -12\n",
       " 2021-01-02      3\n",
       " 2021-01-03      4\n",
       " 2021-01-04     17\n",
       " 2021-01-05   -228\n",
       " Freq: D, dtype: int64,\n",
       " 2021-01-01     56\n",
       " 2021-01-02    -74\n",
       " 2021-01-03   -433\n",
       " 2021-01-04     89\n",
       " 2021-01-05     69\n",
       " Freq: D, dtype: int64)"
      ]
     },
     "execution_count": 81,
     "metadata": {},
     "output_type": "execute_result"
    }
   ],
   "source": [
    "temp1, temp2"
   ]
  },
  {
   "cell_type": "code",
   "execution_count": 82,
   "id": "e41b1b30",
   "metadata": {},
   "outputs": [
    {
     "data": {
      "text/plain": [
       "2021-01-01    -68\n",
       "2021-01-02     77\n",
       "2021-01-03    437\n",
       "2021-01-04    -72\n",
       "2021-01-05   -297\n",
       "Freq: D, dtype: int64"
      ]
     },
     "execution_count": 82,
     "metadata": {},
     "output_type": "execute_result"
    }
   ],
   "source": [
    "temp_diff=temp1-temp2\n",
    "temp_diff"
   ]
  },
  {
   "cell_type": "code",
   "execution_count": 83,
   "id": "40d46337",
   "metadata": {},
   "outputs": [
    {
     "data": {
      "text/plain": [
       "15.4"
      ]
     },
     "execution_count": 83,
     "metadata": {},
     "output_type": "execute_result"
    }
   ],
   "source": [
    "temp_diff.mean()"
   ]
  },
  {
   "cell_type": "code",
   "execution_count": null,
   "id": "bc0d561e",
   "metadata": {},
   "outputs": [],
   "source": []
  }
 ],
 "metadata": {
  "kernelspec": {
   "display_name": "Python 3 (ipykernel)",
   "language": "python",
   "name": "python3"
  },
  "language_info": {
   "codemirror_mode": {
    "name": "ipython",
    "version": 3
   },
   "file_extension": ".py",
   "mimetype": "text/x-python",
   "name": "python",
   "nbconvert_exporter": "python",
   "pygments_lexer": "ipython3",
   "version": "3.9.7"
  }
 },
 "nbformat": 4,
 "nbformat_minor": 5
}
