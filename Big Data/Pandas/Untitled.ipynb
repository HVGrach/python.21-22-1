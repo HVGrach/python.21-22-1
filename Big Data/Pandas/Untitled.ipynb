{
 "cells": [
  {
   "cell_type": "code",
   "execution_count": 36,
   "id": "4e56ae8a",
   "metadata": {
    "scrolled": false
   },
   "outputs": [],
   "source": [
    "import pandas as pd\n",
    "import numpy as np\n",
    "import datetime\n"
   ]
  },
  {
   "cell_type": "code",
   "execution_count": 37,
   "id": "42d038ff",
   "metadata": {},
   "outputs": [],
   "source": [
    "ser1=pd.Series([1,2,3])"
   ]
  },
  {
   "cell_type": "code",
   "execution_count": 38,
   "id": "16dc3770",
   "metadata": {},
   "outputs": [
    {
     "name": "stdout",
     "output_type": "stream",
     "text": [
      "0    1\n",
      "1    2\n",
      "2    3\n",
      "dtype: int64\n"
     ]
    }
   ],
   "source": [
    "print(ser1)"
   ]
  },
  {
   "cell_type": "code",
   "execution_count": 39,
   "id": "cedb854e",
   "metadata": {},
   "outputs": [],
   "source": [
    "ser2=pd.Series([\"Саша\", \"Маша\", \"Паша\"], index=['a','b','c'])"
   ]
  },
  {
   "cell_type": "code",
   "execution_count": 40,
   "id": "c575011e",
   "metadata": {},
   "outputs": [
    {
     "name": "stdout",
     "output_type": "stream",
     "text": [
      "a    Саша\n",
      "b    Маша\n",
      "c    Паша\n",
      "dtype: object\n"
     ]
    }
   ],
   "source": [
    "print(ser2)"
   ]
  },
  {
   "cell_type": "code",
   "execution_count": 49,
   "id": "047c984a",
   "metadata": {},
   "outputs": [],
   "source": [
    "dates=pd.date_range(\"2021-01-01\", \"2021-01-06\")\n"
   ]
  },
  {
   "cell_type": "code",
   "execution_count": 50,
   "id": "08bcf51c",
   "metadata": {},
   "outputs": [
    {
     "name": "stdout",
     "output_type": "stream",
     "text": [
      "DatetimeIndex(['2021-01-01', '2021-01-02', '2021-01-03', '2021-01-04',\n",
      "               '2021-01-05', '2021-01-06'],\n",
      "              dtype='datetime64[ns]', freq='D')\n"
     ]
    }
   ],
   "source": [
    "print(dates)\n"
   ]
  },
  {
   "cell_type": "code",
   "execution_count": 51,
   "id": "31a4da25",
   "metadata": {},
   "outputs": [],
   "source": [
    "birds=pd.Series([\"Bingo\", \"Dingo\", \"Bob\", \"Dude\", \"Dick\", \"Cock\"], index =dates)\n"
   ]
  },
  {
   "cell_type": "code",
   "execution_count": 53,
   "id": "08cbe362",
   "metadata": {},
   "outputs": [
    {
     "data": {
      "text/plain": [
       "2021-01-01    Bingo\n",
       "2021-01-02    Dingo\n",
       "2021-01-03      Bob\n",
       "2021-01-04     Dude\n",
       "2021-01-05     Dick\n",
       "2021-01-06     Cock\n",
       "Freq: D, dtype: object"
      ]
     },
     "execution_count": 53,
     "metadata": {},
     "output_type": "execute_result"
    }
   ],
   "source": [
    "birds\n"
   ]
  },
  {
   "cell_type": "markdown",
   "id": "f90eef60",
   "metadata": {},
   "source": []
  },
  {
   "cell_type": "code",
   "execution_count": 54,
   "id": "25c2a987",
   "metadata": {},
   "outputs": [],
   "source": [
    "temp1=pd.Series([-12,-8,0,1,-7,-51], index=dates)\n",
    "temp2=pd.Series([23, 14,21,6,0,9,], index=dates)"
   ]
  },
  {
   "cell_type": "code",
   "execution_count": 55,
   "id": "4b6ad6b1",
   "metadata": {},
   "outputs": [
    {
     "data": {
      "text/plain": [
       "(2021-01-01   -12\n",
       " 2021-01-02    -8\n",
       " 2021-01-03     0\n",
       " 2021-01-04     1\n",
       " 2021-01-05    -7\n",
       " 2021-01-06   -51\n",
       " Freq: D, dtype: int64,\n",
       " 2021-01-01    23\n",
       " 2021-01-02    14\n",
       " 2021-01-03    21\n",
       " 2021-01-04     6\n",
       " 2021-01-05     0\n",
       " 2021-01-06     9\n",
       " Freq: D, dtype: int64)"
      ]
     },
     "execution_count": 55,
     "metadata": {},
     "output_type": "execute_result"
    }
   ],
   "source": [
    "temp1, temp2\n"
   ]
  },
  {
   "cell_type": "code",
   "execution_count": 58,
   "id": "9b5f2ba9",
   "metadata": {},
   "outputs": [
    {
     "data": {
      "text/plain": [
       "2021-01-01   -35\n",
       "2021-01-02   -22\n",
       "2021-01-03   -21\n",
       "2021-01-04    -5\n",
       "2021-01-05    -7\n",
       "2021-01-06   -60\n",
       "Freq: D, dtype: int64"
      ]
     },
     "execution_count": 58,
     "metadata": {},
     "output_type": "execute_result"
    }
   ],
   "source": [
    "temp_diff=temp1-temp2\n",
    "temp_diff"
   ]
  },
  {
   "cell_type": "code",
   "execution_count": 61,
   "id": "72df2c5c",
   "metadata": {},
   "outputs": [
    {
     "data": {
      "text/plain": [
       "(-5, -22)"
      ]
     },
     "execution_count": 61,
     "metadata": {},
     "output_type": "execute_result"
    }
   ],
   "source": [
    "temp_diff[3], temp_diff[\"2021-01-02\"]"
   ]
  },
  {
   "cell_type": "markdown",
   "id": "abfae8f6",
   "metadata": {},
   "source": []
  },
  {
   "cell_type": "code",
   "execution_count": 62,
   "id": "a946f9a3",
   "metadata": {},
   "outputs": [
    {
     "data": {
      "text/plain": [
       "-25.0"
      ]
     },
     "execution_count": 62,
     "metadata": {},
     "output_type": "execute_result"
    }
   ],
   "source": [
    "temp_diff.mean()"
   ]
  },
  {
   "cell_type": "code",
   "execution_count": null,
   "id": "c4543a73",
   "metadata": {},
   "outputs": [],
   "source": []
  }
 ],
 "metadata": {
  "kernelspec": {
   "display_name": "Python 3 (ipykernel)",
   "language": "python",
   "name": "python3"
  },
  "language_info": {
   "codemirror_mode": {
    "name": "ipython",
    "version": 3
   },
   "file_extension": ".py",
   "mimetype": "text/x-python",
   "name": "python",
   "nbconvert_exporter": "python",
   "pygments_lexer": "ipython3",
   "version": "3.9.7"
  }
 },
 "nbformat": 4,
 "nbformat_minor": 5
}
