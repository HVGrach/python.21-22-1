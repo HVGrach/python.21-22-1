{
 "cells": [
  {
   "cell_type": "code",
   "execution_count": 5,
   "id": "ea08183f",
   "metadata": {},
   "outputs": [],
   "source": [
    "import pandas as pd\n",
    "import numpy as np\n",
    "import datetime "
   ]
  },
  {
   "cell_type": "code",
   "execution_count": 6,
   "id": "81217e32",
   "metadata": {},
   "outputs": [],
   "source": [
    "ser1=pd.Series([1, 2, 3])"
   ]
  },
  {
   "cell_type": "code",
   "execution_count": 7,
   "id": "a940969a",
   "metadata": {},
   "outputs": [
    {
     "name": "stdout",
     "output_type": "stream",
     "text": [
      "0    1\n",
      "1    2\n",
      "2    3\n",
      "dtype: int64\n"
     ]
    }
   ],
   "source": [
    "print(ser1)"
   ]
  },
  {
   "cell_type": "code",
   "execution_count": 10,
   "id": "beeaac4c",
   "metadata": {},
   "outputs": [],
   "source": [
    "ser2=pd.Series([\"Саша\", \"Маша\", \"Даша\"], index=['a', 'b', 'c'])"
   ]
  },
  {
   "cell_type": "code",
   "execution_count": 11,
   "id": "1ca1a6a8",
   "metadata": {},
   "outputs": [
    {
     "data": {
      "text/plain": [
       "a    Саша\n",
       "b    Маша\n",
       "c    Даша\n",
       "dtype: object"
      ]
     },
     "execution_count": 11,
     "metadata": {},
     "output_type": "execute_result"
    }
   ],
   "source": [
    "ser2"
   ]
  },
  {
   "cell_type": "code",
   "execution_count": 16,
   "id": "b93fcaa8",
   "metadata": {},
   "outputs": [],
   "source": [
    "dates=pd.date_range(\"2021-01-01\", \"2021-01-06\")"
   ]
  },
  {
   "cell_type": "code",
   "execution_count": 17,
   "id": "ec51e04e",
   "metadata": {
    "scrolled": true
   },
   "outputs": [
    {
     "name": "stdout",
     "output_type": "stream",
     "text": [
      "DatetimeIndex(['2021-01-01', '2021-01-02', '2021-01-03', '2021-01-04',\n",
      "               '2021-01-05', '2021-01-06'],\n",
      "              dtype='datetime64[ns]', freq='D')\n"
     ]
    }
   ],
   "source": [
    "print(dates)"
   ]
  },
  {
   "cell_type": "code",
   "execution_count": 20,
   "id": "a393917b",
   "metadata": {},
   "outputs": [],
   "source": [
    "birds=pd.Series([\"Bingo\", \"Dingo\", \"Bob\", \"Dude\", \"Dick\", \"Cock\"], index =dates)"
   ]
  },
  {
   "cell_type": "code",
   "execution_count": 21,
   "id": "6a6caf4a",
   "metadata": {},
   "outputs": [
    {
     "data": {
      "text/plain": [
       "2021-01-01    Bingo\n",
       "2021-01-02    Dingo\n",
       "2021-01-03      Bob\n",
       "2021-01-04     Dude\n",
       "2021-01-05     Dick\n",
       "2021-01-06     Cock\n",
       "Freq: D, dtype: object"
      ]
     },
     "execution_count": 21,
     "metadata": {},
     "output_type": "execute_result"
    }
   ],
   "source": [
    "birds"
   ]
  },
  {
   "cell_type": "code",
   "execution_count": 22,
   "id": "76c9127e",
   "metadata": {},
   "outputs": [],
   "source": [
    "temp1=pd.Series([-12, -8, 0, 1, -7, -51], index=dates)\n",
    "temp2=pd.Series([23, 14, 21, 6, 0, 9], index=dates)"
   ]
  },
  {
   "cell_type": "code",
   "execution_count": 23,
   "id": "41805eb2",
   "metadata": {},
   "outputs": [
    {
     "data": {
      "text/plain": [
       "(2021-01-01   -12\n",
       " 2021-01-02    -8\n",
       " 2021-01-03     0\n",
       " 2021-01-04     1\n",
       " 2021-01-05    -7\n",
       " 2021-01-06   -51\n",
       " Freq: D, dtype: int64,\n",
       " 2021-01-01    23\n",
       " 2021-01-02    14\n",
       " 2021-01-03    21\n",
       " 2021-01-04     6\n",
       " 2021-01-05     0\n",
       " 2021-01-06     9\n",
       " Freq: D, dtype: int64)"
      ]
     },
     "execution_count": 23,
     "metadata": {},
     "output_type": "execute_result"
    }
   ],
   "source": [
    "temp1, temp2"
   ]
  },
  {
   "cell_type": "code",
   "execution_count": 24,
   "id": "9ba21d12",
   "metadata": {},
   "outputs": [
    {
     "data": {
      "text/plain": [
       "2021-01-01   -35\n",
       "2021-01-02   -22\n",
       "2021-01-03   -21\n",
       "2021-01-04    -5\n",
       "2021-01-05    -7\n",
       "2021-01-06   -60\n",
       "Freq: D, dtype: int64"
      ]
     },
     "execution_count": 24,
     "metadata": {},
     "output_type": "execute_result"
    }
   ],
   "source": [
    "temp_diff=temp1-temp2\n",
    "temp_diff"
   ]
  },
  {
   "cell_type": "code",
   "execution_count": 25,
   "id": "f7fa2683",
   "metadata": {},
   "outputs": [
    {
     "data": {
      "text/plain": [
       "(-5, -22)"
      ]
     },
     "execution_count": 25,
     "metadata": {},
     "output_type": "execute_result"
    }
   ],
   "source": [
    "temp_diff[3], temp_diff[\"2021-01-02\"]"
   ]
  },
  {
   "cell_type": "code",
   "execution_count": 26,
   "id": "2e0e0776",
   "metadata": {},
   "outputs": [
    {
     "data": {
      "text/plain": [
       "-25.0"
      ]
     },
     "execution_count": 26,
     "metadata": {},
     "output_type": "execute_result"
    }
   ],
   "source": [
    "temp_diff.mean()"
   ]
  },
  {
   "cell_type": "code",
   "execution_count": null,
   "id": "90aaecb8",
   "metadata": {},
   "outputs": [],
   "source": []
  }
 ],
 "metadata": {
  "kernelspec": {
   "display_name": "Python 3 (ipykernel)",
   "language": "python",
   "name": "python3"
  },
  "language_info": {
   "codemirror_mode": {
    "name": "ipython",
    "version": 3
   },
   "file_extension": ".py",
   "mimetype": "text/x-python",
   "name": "python",
   "nbconvert_exporter": "python",
   "pygments_lexer": "ipython3",
   "version": "3.9.7"
  }
 },
 "nbformat": 4,
 "nbformat_minor": 5
}
