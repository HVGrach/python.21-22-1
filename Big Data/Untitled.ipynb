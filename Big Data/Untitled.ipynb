{
 "cells": [
  {
   "cell_type": "code",
   "execution_count": 1,
   "id": "86e42785",
   "metadata": {},
   "outputs": [],
   "source": [
    "import pandas as pd\n",
    "import numpy as np\n",
    "import datetime "
   ]
  },
  {
   "cell_type": "code",
   "execution_count": 2,
   "id": "707cd4a7",
   "metadata": {},
   "outputs": [],
   "source": [
    "ser1 = pd.Series([1,2,3])"
   ]
  },
  {
   "cell_type": "code",
   "execution_count": 3,
   "id": "27053455",
   "metadata": {},
   "outputs": [
    {
     "name": "stdout",
     "output_type": "stream",
     "text": [
      "0    1\n",
      "1    2\n",
      "2    3\n",
      "dtype: int64\n"
     ]
    }
   ],
   "source": [
    "print(ser1)"
   ]
  },
  {
   "cell_type": "code",
   "execution_count": 5,
   "id": "813ec0ae",
   "metadata": {},
   "outputs": [],
   "source": [
    "ser2 = pd.Series([\"Саша\",\"Маша\",\"паша\"], index = [\"a\",\"b\",\"c\"])"
   ]
  },
  {
   "cell_type": "code",
   "execution_count": 6,
   "id": "2c3d9e85",
   "metadata": {},
   "outputs": [
    {
     "data": {
      "text/plain": [
       "a    Саша\n",
       "b    Маша\n",
       "c    паша\n",
       "dtype: object"
      ]
     },
     "execution_count": 6,
     "metadata": {},
     "output_type": "execute_result"
    }
   ],
   "source": [
    "ser2"
   ]
  },
  {
   "cell_type": "code",
   "execution_count": 22,
   "id": "d911344a",
   "metadata": {},
   "outputs": [],
   "source": [
    "dates=pd.date_range(\"2021-01-01\",\"2021-01-06\")"
   ]
  },
  {
   "cell_type": "code",
   "execution_count": 23,
   "id": "0c448261",
   "metadata": {},
   "outputs": [
    {
     "data": {
      "text/plain": [
       "DatetimeIndex(['2021-01-01', '2021-01-02', '2021-01-03', '2021-01-04',\n",
       "               '2021-01-05', '2021-01-06'],\n",
       "              dtype='datetime64[ns]', freq='D')"
      ]
     },
     "execution_count": 23,
     "metadata": {},
     "output_type": "execute_result"
    }
   ],
   "source": [
    "dates"
   ]
  },
  {
   "cell_type": "code",
   "execution_count": 31,
   "id": "c03a3c7d",
   "metadata": {},
   "outputs": [],
   "source": [
    "birds=pd.Series([\"Bingo\",\"Dingo\",\"Bob\",\"Sock\",\"Big\",\"Cock\"], index = dates)"
   ]
  },
  {
   "cell_type": "code",
   "execution_count": 32,
   "id": "e76a2655",
   "metadata": {},
   "outputs": [
    {
     "data": {
      "text/plain": [
       "2021-01-01    Bingo\n",
       "2021-01-02    Dingo\n",
       "2021-01-03      Bob\n",
       "2021-01-04     Sock\n",
       "2021-01-05      Big\n",
       "2021-01-06     Cock\n",
       "Freq: D, dtype: object"
      ]
     },
     "execution_count": 32,
     "metadata": {},
     "output_type": "execute_result"
    }
   ],
   "source": [
    "birds"
   ]
  },
  {
   "cell_type": "code",
   "execution_count": 28,
   "id": "b552622d",
   "metadata": {},
   "outputs": [],
   "source": [
    "temp1=pd.Series([-12,-8,0,1,-7,-51], index = dates)\n",
    "temp2=pd.Series([23,14,21,6,0,9], index = dates)"
   ]
  },
  {
   "cell_type": "code",
   "execution_count": 29,
   "id": "706840d4",
   "metadata": {},
   "outputs": [
    {
     "data": {
      "text/plain": [
       "(2021-01-01   -12\n",
       " 2021-01-02    -8\n",
       " 2021-01-03     0\n",
       " 2021-01-04     1\n",
       " 2021-01-05    -7\n",
       " 2021-01-06   -51\n",
       " Freq: D, dtype: int64,\n",
       " 2021-01-01    23\n",
       " 2021-01-02    14\n",
       " 2021-01-03    21\n",
       " 2021-01-04     6\n",
       " 2021-01-05     0\n",
       " 2021-01-06     9\n",
       " Freq: D, dtype: int64)"
      ]
     },
     "execution_count": 29,
     "metadata": {},
     "output_type": "execute_result"
    }
   ],
   "source": [
    "temp1,temp2"
   ]
  },
  {
   "cell_type": "code",
   "execution_count": 30,
   "id": "2951f2d1",
   "metadata": {},
   "outputs": [
    {
     "data": {
      "text/plain": [
       "2021-01-01   -35\n",
       "2021-01-02   -22\n",
       "2021-01-03   -21\n",
       "2021-01-04    -5\n",
       "2021-01-05    -7\n",
       "2021-01-06   -60\n",
       "Freq: D, dtype: int64"
      ]
     },
     "execution_count": 30,
     "metadata": {},
     "output_type": "execute_result"
    }
   ],
   "source": [
    "temp_diff=temp1-temp2\n",
    "temp_diff"
   ]
  },
  {
   "cell_type": "code",
   "execution_count": 33,
   "id": "8139db6c",
   "metadata": {},
   "outputs": [
    {
     "data": {
      "text/plain": [
       "-5"
      ]
     },
     "execution_count": 33,
     "metadata": {},
     "output_type": "execute_result"
    }
   ],
   "source": [
    "temp_diff[3]"
   ]
  },
  {
   "cell_type": "code",
   "execution_count": null,
   "id": "1367983e",
   "metadata": {},
   "outputs": [],
   "source": []
  }
 ],
 "metadata": {
  "kernelspec": {
   "display_name": "Python 3 (ipykernel)",
   "language": "python",
   "name": "python3"
  },
  "language_info": {
   "codemirror_mode": {
    "name": "ipython",
    "version": 3
   },
   "file_extension": ".py",
   "mimetype": "text/x-python",
   "name": "python",
   "nbconvert_exporter": "python",
   "pygments_lexer": "ipython3",
   "version": "3.9.7"
  }
 },
 "nbformat": 4,
 "nbformat_minor": 5
}
