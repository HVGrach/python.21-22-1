{
 "cells": [
  {
   "cell_type": "code",
   "execution_count": 1,
   "id": "2a545c7b",
   "metadata": {},
   "outputs": [],
   "source": [
    "import pandas as pd\n",
    "import numpy as np\n",
    "import datetime"
   ]
  },
  {
   "cell_type": "code",
   "execution_count": 2,
   "id": "c8cea5bc",
   "metadata": {},
   "outputs": [
    {
     "data": {
      "text/plain": [
       "DatetimeIndex(['2022-03-01', '2022-03-02', '2022-03-03', '2022-03-04',\n",
       "               '2022-03-05'],\n",
       "              dtype='datetime64[ns]', freq='D')"
      ]
     },
     "execution_count": 2,
     "metadata": {},
     "output_type": "execute_result"
    }
   ],
   "source": [
    "dates=pd.date_range(\"2022-03-01\",\"2022-03-05\")\n",
    "dates"
   ]
  },
  {
   "cell_type": "code",
   "execution_count": 3,
   "id": "d404b156",
   "metadata": {},
   "outputs": [
    {
     "data": {
      "text/plain": [
       "2022-03-01    1\n",
       "2022-03-02    2\n",
       "2022-03-03    3\n",
       "2022-03-04    4\n",
       "2022-03-05    5\n",
       "Freq: D, dtype: int64"
      ]
     },
     "execution_count": 3,
     "metadata": {},
     "output_type": "execute_result"
    }
   ],
   "source": [
    "ser1=pd.Series([1,2,3,4,5],index=dates)\n",
    "ser1"
   ]
  },
  {
   "cell_type": "code",
   "execution_count": 4,
   "id": "62dbbb57",
   "metadata": {},
   "outputs": [
    {
     "data": {
      "text/plain": [
       "2022-03-01     6\n",
       "2022-03-02     7\n",
       "2022-03-03     8\n",
       "2022-03-04     9\n",
       "2022-03-05    10\n",
       "Freq: D, dtype: int64"
      ]
     },
     "execution_count": 4,
     "metadata": {},
     "output_type": "execute_result"
    }
   ],
   "source": [
    "ser2=pd.Series([6,7,8,9,10], index=dates)\n",
    "ser2"
   ]
  },
  {
   "cell_type": "code",
   "execution_count": 5,
   "id": "ae3fde08",
   "metadata": {},
   "outputs": [
    {
     "data": {
      "text/html": [
       "<div>\n",
       "<style scoped>\n",
       "    .dataframe tbody tr th:only-of-type {\n",
       "        vertical-align: middle;\n",
       "    }\n",
       "\n",
       "    .dataframe tbody tr th {\n",
       "        vertical-align: top;\n",
       "    }\n",
       "\n",
       "    .dataframe thead th {\n",
       "        text-align: right;\n",
       "    }\n",
       "</style>\n",
       "<table border=\"1\" class=\"dataframe\">\n",
       "  <thead>\n",
       "    <tr style=\"text-align: right;\">\n",
       "      <th></th>\n",
       "      <th>Series 1</th>\n",
       "      <th>Series 2</th>\n",
       "    </tr>\n",
       "  </thead>\n",
       "  <tbody>\n",
       "    <tr>\n",
       "      <th>2022-03-01</th>\n",
       "      <td>1</td>\n",
       "      <td>6</td>\n",
       "    </tr>\n",
       "    <tr>\n",
       "      <th>2022-03-02</th>\n",
       "      <td>2</td>\n",
       "      <td>7</td>\n",
       "    </tr>\n",
       "    <tr>\n",
       "      <th>2022-03-03</th>\n",
       "      <td>3</td>\n",
       "      <td>8</td>\n",
       "    </tr>\n",
       "    <tr>\n",
       "      <th>2022-03-04</th>\n",
       "      <td>4</td>\n",
       "      <td>9</td>\n",
       "    </tr>\n",
       "    <tr>\n",
       "      <th>2022-03-05</th>\n",
       "      <td>5</td>\n",
       "      <td>10</td>\n",
       "    </tr>\n",
       "  </tbody>\n",
       "</table>\n",
       "</div>"
      ],
      "text/plain": [
       "            Series 1  Series 2\n",
       "2022-03-01         1         6\n",
       "2022-03-02         2         7\n",
       "2022-03-03         3         8\n",
       "2022-03-04         4         9\n",
       "2022-03-05         5        10"
      ]
     },
     "execution_count": 5,
     "metadata": {},
     "output_type": "execute_result"
    }
   ],
   "source": [
    "frame1=pd.DataFrame({\"Series 1\":ser1,\"Series 2\":ser2})\n",
    "frame1"
   ]
  },
  {
   "cell_type": "code",
   "execution_count": 6,
   "id": "a1efcbdb",
   "metadata": {},
   "outputs": [
    {
     "data": {
      "text/plain": [
       "2022-03-01     6\n",
       "2022-03-02     7\n",
       "2022-03-03     8\n",
       "2022-03-04     9\n",
       "2022-03-05    10\n",
       "Freq: D, Name: Series 2, dtype: int64"
      ]
     },
     "execution_count": 6,
     "metadata": {},
     "output_type": "execute_result"
    }
   ],
   "source": [
    "frame1[\"Series 2\"]"
   ]
  },
  {
   "cell_type": "code",
   "execution_count": 7,
   "id": "46184730",
   "metadata": {},
   "outputs": [
    {
     "data": {
      "text/plain": [
       "2022-03-01    5\n",
       "2022-03-02    5\n",
       "2022-03-03    5\n",
       "2022-03-04    5\n",
       "2022-03-05    5\n",
       "Freq: D, dtype: int64"
      ]
     },
     "execution_count": 7,
     "metadata": {},
     "output_type": "execute_result"
    }
   ],
   "source": [
    "frame1[\"Series 2\"]- frame1[\"Series 1\"]"
   ]
  },
  {
   "cell_type": "code",
   "execution_count": 10,
   "id": "53d67d60",
   "metadata": {},
   "outputs": [
    {
     "data": {
      "text/html": [
       "<div>\n",
       "<style scoped>\n",
       "    .dataframe tbody tr th:only-of-type {\n",
       "        vertical-align: middle;\n",
       "    }\n",
       "\n",
       "    .dataframe tbody tr th {\n",
       "        vertical-align: top;\n",
       "    }\n",
       "\n",
       "    .dataframe thead th {\n",
       "        text-align: right;\n",
       "    }\n",
       "</style>\n",
       "<table border=\"1\" class=\"dataframe\">\n",
       "  <thead>\n",
       "    <tr style=\"text-align: right;\">\n",
       "      <th></th>\n",
       "      <th>Series 1</th>\n",
       "      <th>Series 2</th>\n",
       "      <th>Difference</th>\n",
       "    </tr>\n",
       "  </thead>\n",
       "  <tbody>\n",
       "    <tr>\n",
       "      <th>2022-03-01</th>\n",
       "      <td>1</td>\n",
       "      <td>6</td>\n",
       "      <td>5</td>\n",
       "    </tr>\n",
       "    <tr>\n",
       "      <th>2022-03-02</th>\n",
       "      <td>2</td>\n",
       "      <td>7</td>\n",
       "      <td>5</td>\n",
       "    </tr>\n",
       "    <tr>\n",
       "      <th>2022-03-03</th>\n",
       "      <td>3</td>\n",
       "      <td>8</td>\n",
       "      <td>5</td>\n",
       "    </tr>\n",
       "    <tr>\n",
       "      <th>2022-03-04</th>\n",
       "      <td>4</td>\n",
       "      <td>9</td>\n",
       "      <td>5</td>\n",
       "    </tr>\n",
       "    <tr>\n",
       "      <th>2022-03-05</th>\n",
       "      <td>5</td>\n",
       "      <td>10</td>\n",
       "      <td>5</td>\n",
       "    </tr>\n",
       "  </tbody>\n",
       "</table>\n",
       "</div>"
      ],
      "text/plain": [
       "            Series 1  Series 2  Difference\n",
       "2022-03-01         1         6           5\n",
       "2022-03-02         2         7           5\n",
       "2022-03-03         3         8           5\n",
       "2022-03-04         4         9           5\n",
       "2022-03-05         5        10           5"
      ]
     },
     "execution_count": 10,
     "metadata": {},
     "output_type": "execute_result"
    }
   ],
   "source": [
    "frame1[\"Difference\"]=frame1[\"Series 2\"]- frame1[\"Series 1\"]\n",
    "frame1"
   ]
  },
  {
   "cell_type": "code",
   "execution_count": 11,
   "id": "c260195f",
   "metadata": {},
   "outputs": [
    {
     "data": {
      "text/plain": [
       "Index(['Series 1', 'Series 2', 'Difference'], dtype='object')"
      ]
     },
     "execution_count": 11,
     "metadata": {},
     "output_type": "execute_result"
    }
   ],
   "source": [
    "frame1.columns #Получить название столбцов"
   ]
  },
  {
   "cell_type": "code",
   "execution_count": 12,
   "id": "bee9e774",
   "metadata": {},
   "outputs": [
    {
     "data": {
      "text/plain": [
       "DatetimeIndex(['2022-03-01', '2022-03-02', '2022-03-03', '2022-03-04',\n",
       "               '2022-03-05'],\n",
       "              dtype='datetime64[ns]', freq='D')"
      ]
     },
     "execution_count": 12,
     "metadata": {},
     "output_type": "execute_result"
    }
   ],
   "source": [
    "frame1.index #Получить индекс"
   ]
  },
  {
   "cell_type": "code",
   "execution_count": 14,
   "id": "1a0541aa",
   "metadata": {},
   "outputs": [
    {
     "data": {
      "text/plain": [
       "2022-03-03    3\n",
       "2022-03-04    4\n",
       "Freq: D, Name: Series 1, dtype: int64"
      ]
     },
     "execution_count": 14,
     "metadata": {},
     "output_type": "execute_result"
    }
   ],
   "source": [
    "frame1[\"Series 1\"][2:4]"
   ]
  },
  {
   "cell_type": "code",
   "execution_count": 15,
   "id": "0a352788",
   "metadata": {},
   "outputs": [
    {
     "data": {
      "text/plain": [
       "3"
      ]
     },
     "execution_count": 15,
     "metadata": {},
     "output_type": "execute_result"
    }
   ],
   "source": [
    "frame1[\"Series 1\"][\"2022-03-03\"]"
   ]
  },
  {
   "cell_type": "code",
   "execution_count": 16,
   "id": "3c7d7c90",
   "metadata": {},
   "outputs": [
    {
     "data": {
      "text/plain": [
       "3"
      ]
     },
     "execution_count": 16,
     "metadata": {},
     "output_type": "execute_result"
    }
   ],
   "source": [
    "frame1[\"Series 1\"][2]"
   ]
  },
  {
   "cell_type": "code",
   "execution_count": 17,
   "id": "745defbf",
   "metadata": {},
   "outputs": [
    {
     "data": {
      "text/plain": [
       "2022-03-01     True\n",
       "2022-03-02     True\n",
       "2022-03-03     True\n",
       "2022-03-04    False\n",
       "2022-03-05    False\n",
       "Freq: D, Name: Series 1, dtype: bool"
      ]
     },
     "execution_count": 17,
     "metadata": {},
     "output_type": "execute_result"
    }
   ],
   "source": [
    "frame1[\"Series 1\"]<4"
   ]
  },
  {
   "cell_type": "code",
   "execution_count": null,
   "id": "ef1abef5",
   "metadata": {},
   "outputs": [],
   "source": []
  }
 ],
 "metadata": {
  "kernelspec": {
   "display_name": "Python 3 (ipykernel)",
   "language": "python",
   "name": "python3"
  },
  "language_info": {
   "codemirror_mode": {
    "name": "ipython",
    "version": 3
   },
   "file_extension": ".py",
   "mimetype": "text/x-python",
   "name": "python",
   "nbconvert_exporter": "python",
   "pygments_lexer": "ipython3",
   "version": "3.9.7"
  }
 },
 "nbformat": 4,
 "nbformat_minor": 5
}
