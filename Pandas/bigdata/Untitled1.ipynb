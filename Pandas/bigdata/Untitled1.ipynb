{
 "cells": [
  {
   "cell_type": "code",
   "execution_count": 4,
   "id": "ca8f1281",
   "metadata": {},
   "outputs": [],
   "source": [
    "import pandas as pd\n",
    "import numpy as np\n",
    "import datetime"
   ]
  },
  {
   "cell_type": "code",
   "execution_count": 7,
   "id": "ae67fd20",
   "metadata": {},
   "outputs": [],
   "source": [
    "series1 = pd.Series([1,2,3])"
   ]
  },
  {
   "cell_type": "code",
   "execution_count": 8,
   "id": "316ea8cb",
   "metadata": {},
   "outputs": [
    {
     "name": "stdout",
     "output_type": "stream",
     "text": [
      "0    1\n",
      "1    2\n",
      "2    3\n",
      "dtype: int64\n"
     ]
    }
   ],
   "source": [
    "print(series1)"
   ]
  },
  {
   "cell_type": "code",
   "execution_count": 12,
   "id": "3bdddeec",
   "metadata": {},
   "outputs": [],
   "source": [
    "series2=pd.Series([\"Саша\",\"Маша\",\"Паша\"], index=['a','b','c'])"
   ]
  },
  {
   "cell_type": "code",
   "execution_count": 13,
   "id": "c11f54db",
   "metadata": {},
   "outputs": [
    {
     "data": {
      "text/plain": [
       "a    Саша\n",
       "b    Маша\n",
       "c    Паша\n",
       "dtype: object"
      ]
     },
     "execution_count": 13,
     "metadata": {},
     "output_type": "execute_result"
    }
   ],
   "source": [
    "series2"
   ]
  },
  {
   "cell_type": "code",
   "execution_count": 22,
   "id": "b16a20f1",
   "metadata": {},
   "outputs": [],
   "source": [
    "dates=pd.date_range(\"2021-01-01\",\"2021-01-06\")"
   ]
  },
  {
   "cell_type": "code",
   "execution_count": 23,
   "id": "51c36a11",
   "metadata": {},
   "outputs": [
    {
     "data": {
      "text/plain": [
       "DatetimeIndex(['2021-01-01', '2021-01-02', '2021-01-03', '2021-01-04',\n",
       "               '2021-01-05', '2021-01-06'],\n",
       "              dtype='datetime64[ns]', freq='D')"
      ]
     },
     "execution_count": 23,
     "metadata": {},
     "output_type": "execute_result"
    }
   ],
   "source": [
    "dates"
   ]
  },
  {
   "cell_type": "code",
   "execution_count": 24,
   "id": "af6cd15a",
   "metadata": {},
   "outputs": [],
   "source": [
    "birds=pd.Series([\"Bingo\",\"Dingo\",\"Bob\",\"Dude\",\"Dick\",\"Cock\"], index=dates)"
   ]
  },
  {
   "cell_type": "code",
   "execution_count": 25,
   "id": "3cf2b3f2",
   "metadata": {},
   "outputs": [
    {
     "data": {
      "text/plain": [
       "2021-01-01    Bingo\n",
       "2021-01-02    Dingo\n",
       "2021-01-03      Bob\n",
       "2021-01-04     Dude\n",
       "2021-01-05     Dick\n",
       "2021-01-06     Cock\n",
       "Freq: D, dtype: object"
      ]
     },
     "execution_count": 25,
     "metadata": {},
     "output_type": "execute_result"
    }
   ],
   "source": [
    "birds"
   ]
  },
  {
   "cell_type": "code",
   "execution_count": 27,
   "id": "f9b64e97",
   "metadata": {},
   "outputs": [],
   "source": [
    "tem1=pd.Series([-12,-9,0,1,4,10], index=dates)\n",
    "tem2=pd.Series([23,25,17,7,6,4], index=dates)"
   ]
  },
  {
   "cell_type": "code",
   "execution_count": 28,
   "id": "c7832101",
   "metadata": {},
   "outputs": [
    {
     "data": {
      "text/plain": [
       "2021-01-01    23\n",
       "2021-01-02    25\n",
       "2021-01-03    17\n",
       "2021-01-04     7\n",
       "2021-01-05     6\n",
       "2021-01-06     4\n",
       "Freq: D, dtype: int64"
      ]
     },
     "execution_count": 28,
     "metadata": {},
     "output_type": "execute_result"
    }
   ],
   "source": [
    "tem1\n",
    "tem2"
   ]
  },
  {
   "cell_type": "code",
   "execution_count": 30,
   "id": "9df89b92",
   "metadata": {},
   "outputs": [
    {
     "data": {
      "text/plain": [
       "2021-01-01   -35\n",
       "2021-01-02   -34\n",
       "2021-01-03   -17\n",
       "2021-01-04    -6\n",
       "2021-01-05    -2\n",
       "2021-01-06     6\n",
       "Freq: D, dtype: int64"
      ]
     },
     "execution_count": 30,
     "metadata": {},
     "output_type": "execute_result"
    }
   ],
   "source": [
    "temp_diff=tem1-tem2\n",
    "temp_diff"
   ]
  },
  {
   "cell_type": "code",
   "execution_count": null,
   "id": "9f6e8ef0",
   "metadata": {},
   "outputs": [],
   "source": []
  }
 ],
 "metadata": {
  "kernelspec": {
   "display_name": "Python 3 (ipykernel)",
   "language": "python",
   "name": "python3"
  },
  "language_info": {
   "codemirror_mode": {
    "name": "ipython",
    "version": 3
   },
   "file_extension": ".py",
   "mimetype": "text/x-python",
   "name": "python",
   "nbconvert_exporter": "python",
   "pygments_lexer": "ipython3",
   "version": "3.9.7"
  }
 },
 "nbformat": 4,
 "nbformat_minor": 5
}
