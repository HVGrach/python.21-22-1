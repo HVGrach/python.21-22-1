{
  "nbformat": 4,
  "nbformat_minor": 0,
  "metadata": {
    "colab": {
      "name": "Ramaz_Kui",
      "provenance": [],
      "collapsed_sections": [],
      "include_colab_link": true
    },
    "kernelspec": {
      "name": "python3",
      "display_name": "Python 3"
    },
    "language_info": {
      "name": "python"
    }
  },
  "cells": [
    {
      "cell_type": "markdown",
      "metadata": {
        "id": "view-in-github",
        "colab_type": "text"
      },
      "source": [
        "<a href=\"https://colab.research.google.com/github/school1739/python.21-22-1/blob/student%2Fpomazanov/Ramaz_Kui.ipynb\" target=\"_parent\"><img src=\"https://colab.research.google.com/assets/colab-badge.svg\" alt=\"Open In Colab\"/></a>"
      ]
    },
    {
      "cell_type": "code",
      "metadata": {
        "id": "qqCsAotw93_p"
      },
      "source": [
        "import pandas as pd\n",
        "import numpy as np"
      ],
      "execution_count": null,
      "outputs": []
    },
    {
      "cell_type": "code",
      "metadata": {
        "id": "x_v4dBi2Dd6R"
      },
      "source": [
        "dataset = pd.read_csv(\"/content/IGN_reviews.csv\")\n",
        "dataframe = pd.DataFrame(dataset)"
      ],
      "execution_count": null,
      "outputs": []
    },
    {
      "cell_type": "code",
      "metadata": {
        "id": "bwFt2Txf_cIl",
        "colab": {
          "base_uri": "https://localhost:8080/",
          "height": 572
        },
        "outputId": "870256f1-3dcd-4011-a817-315e898b79a2"
      },
      "source": [
        "dataframe"
      ],
      "execution_count": null,
      "outputs": [
        {
          "output_type": "execute_result",
          "data": {
            "text/html": [
              "<div>\n",
              "<style scoped>\n",
              "    .dataframe tbody tr th:only-of-type {\n",
              "        vertical-align: middle;\n",
              "    }\n",
              "\n",
              "    .dataframe tbody tr th {\n",
              "        vertical-align: top;\n",
              "    }\n",
              "\n",
              "    .dataframe thead th {\n",
              "        text-align: right;\n",
              "    }\n",
              "</style>\n",
              "<table border=\"1\" class=\"dataframe\">\n",
              "  <thead>\n",
              "    <tr style=\"text-align: right;\">\n",
              "      <th></th>\n",
              "      <th>title</th>\n",
              "      <th>developers</th>\n",
              "      <th>publishers</th>\n",
              "      <th>release_date</th>\n",
              "      <th>platforms</th>\n",
              "      <th>genres</th>\n",
              "      <th>score</th>\n",
              "      <th>reviewed_by</th>\n",
              "    </tr>\n",
              "  </thead>\n",
              "  <tbody>\n",
              "    <tr>\n",
              "      <th>0</th>\n",
              "      <td>Mass Effect Legendary Edition  Part 3: Mass Ef...</td>\n",
              "      <td>BioWare</td>\n",
              "      <td>Electronic Arts</td>\n",
              "      <td>2021-05-14</td>\n",
              "      <td>Xbox One,  PlayStation 4,  PC</td>\n",
              "      <td>Compilation,  RPG</td>\n",
              "      <td>8</td>\n",
              "      <td>Dan Stapleton</td>\n",
              "    </tr>\n",
              "    <tr>\n",
              "      <th>1</th>\n",
              "      <td>Call of Duty: Vanguard - Single-Player Campaign</td>\n",
              "      <td>Treyarch,  Sledgehammer Games</td>\n",
              "      <td>Activision</td>\n",
              "      <td>2021-11-05</td>\n",
              "      <td>Xbox Series X|S,  Xbox One,  PlayStation 5,  P...</td>\n",
              "      <td>Shooter,  First-Person</td>\n",
              "      <td>7</td>\n",
              "      <td>Simon Cardy</td>\n",
              "    </tr>\n",
              "    <tr>\n",
              "      <th>2</th>\n",
              "      <td>Shin Megami Tensei V</td>\n",
              "      <td>Atlus</td>\n",
              "      <td>Atlus</td>\n",
              "      <td>2021-11-12</td>\n",
              "      <td>Nintendo Switch</td>\n",
              "      <td>RPG</td>\n",
              "      <td>8</td>\n",
              "      <td>Leana Hafer</td>\n",
              "    </tr>\n",
              "    <tr>\n",
              "      <th>3</th>\n",
              "      <td>Forza Horizon 5</td>\n",
              "      <td>Playground Games</td>\n",
              "      <td>Xbox Game Studios</td>\n",
              "      <td>2021-11-09</td>\n",
              "      <td>PC,  Xbox Series X|S,  Xbox One</td>\n",
              "      <td>Racing</td>\n",
              "      <td>10</td>\n",
              "      <td>Luke Reilly</td>\n",
              "    </tr>\n",
              "    <tr>\n",
              "      <th>4</th>\n",
              "      <td>Riders Republic</td>\n",
              "      <td>Ubisoft Annecy</td>\n",
              "      <td>Ubisoft</td>\n",
              "      <td>2021-10-28</td>\n",
              "      <td>Stadia,  PlayStation 5,  PlayStation 4,  Xbox ...</td>\n",
              "      <td>Sports,  Extreme Sports</td>\n",
              "      <td>8</td>\n",
              "      <td>Travis Northup</td>\n",
              "    </tr>\n",
              "    <tr>\n",
              "      <th>...</th>\n",
              "      <td>...</td>\n",
              "      <td>...</td>\n",
              "      <td>...</td>\n",
              "      <td>...</td>\n",
              "      <td>...</td>\n",
              "      <td>...</td>\n",
              "      <td>...</td>\n",
              "      <td>...</td>\n",
              "    </tr>\n",
              "    <tr>\n",
              "      <th>231</th>\n",
              "      <td>The Pathless</td>\n",
              "      <td>Giant Squid</td>\n",
              "      <td>Annapurna Interactive</td>\n",
              "      <td>2020-11-12</td>\n",
              "      <td>PlayStation 5,  iPhone,  PlayStation 4,  PC</td>\n",
              "      <td>Adventure</td>\n",
              "      <td>8</td>\n",
              "      <td>Jonathon Dornbush</td>\n",
              "    </tr>\n",
              "    <tr>\n",
              "      <th>232</th>\n",
              "      <td>iPhone 12 Pro</td>\n",
              "      <td>NaN</td>\n",
              "      <td>Apple</td>\n",
              "      <td>2020-10-23</td>\n",
              "      <td>iPhone</td>\n",
              "      <td>Hardware</td>\n",
              "      <td>8</td>\n",
              "      <td>Kevin Lee</td>\n",
              "    </tr>\n",
              "    <tr>\n",
              "      <th>233</th>\n",
              "      <td>Monster Truck Championship</td>\n",
              "      <td>Teyon</td>\n",
              "      <td>Nacon</td>\n",
              "      <td>2020-10-15</td>\n",
              "      <td>PC,  Xbox One,  Nintendo Switch,  PlayStation 4</td>\n",
              "      <td>Racing</td>\n",
              "      <td>7</td>\n",
              "      <td>Luke Reilly</td>\n",
              "    </tr>\n",
              "    <tr>\n",
              "      <th>234</th>\n",
              "      <td>Bugsnax</td>\n",
              "      <td>Young Horses,  Inc.</td>\n",
              "      <td>Young Horses, Inc.</td>\n",
              "      <td>2020-11-12</td>\n",
              "      <td>PC,  PlayStation 4,  PlayStation 5</td>\n",
              "      <td>Adventure,  RPG,  Simulation,  First-Person</td>\n",
              "      <td>8</td>\n",
              "      <td>Simon Cardy</td>\n",
              "    </tr>\n",
              "    <tr>\n",
              "      <th>235</th>\n",
              "      <td>Assassin's Creed Valhalla</td>\n",
              "      <td>Ubisoft Montreal</td>\n",
              "      <td>Ubisoft</td>\n",
              "      <td>2020-11-10</td>\n",
              "      <td>Xbox Series X|S,  Xbox One,  Stadia,  PC,  Pla...</td>\n",
              "      <td>Action,  Adventure</td>\n",
              "      <td>8</td>\n",
              "      <td>Brandin Tyrrel</td>\n",
              "    </tr>\n",
              "  </tbody>\n",
              "</table>\n",
              "<p>236 rows × 8 columns</p>\n",
              "</div>"
            ],
            "text/plain": [
              "                                                 title  ...        reviewed_by\n",
              "0    Mass Effect Legendary Edition  Part 3: Mass Ef...  ...      Dan Stapleton\n",
              "1     Call of Duty: Vanguard - Single-Player Campaign   ...        Simon Cardy\n",
              "2                                Shin Megami Tensei V   ...        Leana Hafer\n",
              "3                                     Forza Horizon 5   ...        Luke Reilly\n",
              "4                                     Riders Republic   ...     Travis Northup\n",
              "..                                                 ...  ...                ...\n",
              "231                                      The Pathless   ...  Jonathon Dornbush\n",
              "232                                     iPhone 12 Pro   ...          Kevin Lee\n",
              "233                        Monster Truck Championship   ...        Luke Reilly\n",
              "234                                           Bugsnax   ...        Simon Cardy\n",
              "235                         Assassin's Creed Valhalla   ...     Brandin Tyrrel\n",
              "\n",
              "[236 rows x 8 columns]"
            ]
          },
          "metadata": {},
          "execution_count": 6
        }
      ]
    },
    {
      "cell_type": "code",
      "metadata": {
        "id": "YCyjnNrb_wT1",
        "colab": {
          "base_uri": "https://localhost:8080/",
          "height": 272
        },
        "outputId": "7daff0f4-f5d7-4e4e-f8c9-81005c5e44ea"
      },
      "source": [
        "dataframe.head()"
      ],
      "execution_count": null,
      "outputs": [
        {
          "output_type": "execute_result",
          "data": {
            "text/html": [
              "<div>\n",
              "<style scoped>\n",
              "    .dataframe tbody tr th:only-of-type {\n",
              "        vertical-align: middle;\n",
              "    }\n",
              "\n",
              "    .dataframe tbody tr th {\n",
              "        vertical-align: top;\n",
              "    }\n",
              "\n",
              "    .dataframe thead th {\n",
              "        text-align: right;\n",
              "    }\n",
              "</style>\n",
              "<table border=\"1\" class=\"dataframe\">\n",
              "  <thead>\n",
              "    <tr style=\"text-align: right;\">\n",
              "      <th></th>\n",
              "      <th>title</th>\n",
              "      <th>developers</th>\n",
              "      <th>publishers</th>\n",
              "      <th>release_date</th>\n",
              "      <th>platforms</th>\n",
              "      <th>genres</th>\n",
              "      <th>score</th>\n",
              "      <th>reviewed_by</th>\n",
              "    </tr>\n",
              "  </thead>\n",
              "  <tbody>\n",
              "    <tr>\n",
              "      <th>0</th>\n",
              "      <td>Mass Effect Legendary Edition  Part 3: Mass Ef...</td>\n",
              "      <td>BioWare</td>\n",
              "      <td>Electronic Arts</td>\n",
              "      <td>2021-05-14</td>\n",
              "      <td>Xbox One,  PlayStation 4,  PC</td>\n",
              "      <td>Compilation,  RPG</td>\n",
              "      <td>8</td>\n",
              "      <td>Dan Stapleton</td>\n",
              "    </tr>\n",
              "    <tr>\n",
              "      <th>1</th>\n",
              "      <td>Call of Duty: Vanguard - Single-Player Campaign</td>\n",
              "      <td>Treyarch,  Sledgehammer Games</td>\n",
              "      <td>Activision</td>\n",
              "      <td>2021-11-05</td>\n",
              "      <td>Xbox Series X|S,  Xbox One,  PlayStation 5,  P...</td>\n",
              "      <td>Shooter,  First-Person</td>\n",
              "      <td>7</td>\n",
              "      <td>Simon Cardy</td>\n",
              "    </tr>\n",
              "    <tr>\n",
              "      <th>2</th>\n",
              "      <td>Shin Megami Tensei V</td>\n",
              "      <td>Atlus</td>\n",
              "      <td>Atlus</td>\n",
              "      <td>2021-11-12</td>\n",
              "      <td>Nintendo Switch</td>\n",
              "      <td>RPG</td>\n",
              "      <td>8</td>\n",
              "      <td>Leana Hafer</td>\n",
              "    </tr>\n",
              "    <tr>\n",
              "      <th>3</th>\n",
              "      <td>Forza Horizon 5</td>\n",
              "      <td>Playground Games</td>\n",
              "      <td>Xbox Game Studios</td>\n",
              "      <td>2021-11-09</td>\n",
              "      <td>PC,  Xbox Series X|S,  Xbox One</td>\n",
              "      <td>Racing</td>\n",
              "      <td>10</td>\n",
              "      <td>Luke Reilly</td>\n",
              "    </tr>\n",
              "    <tr>\n",
              "      <th>4</th>\n",
              "      <td>Riders Republic</td>\n",
              "      <td>Ubisoft Annecy</td>\n",
              "      <td>Ubisoft</td>\n",
              "      <td>2021-10-28</td>\n",
              "      <td>Stadia,  PlayStation 5,  PlayStation 4,  Xbox ...</td>\n",
              "      <td>Sports,  Extreme Sports</td>\n",
              "      <td>8</td>\n",
              "      <td>Travis Northup</td>\n",
              "    </tr>\n",
              "  </tbody>\n",
              "</table>\n",
              "</div>"
            ],
            "text/plain": [
              "                                               title  ...     reviewed_by\n",
              "0  Mass Effect Legendary Edition  Part 3: Mass Ef...  ...   Dan Stapleton\n",
              "1   Call of Duty: Vanguard - Single-Player Campaign   ...     Simon Cardy\n",
              "2                              Shin Megami Tensei V   ...     Leana Hafer\n",
              "3                                   Forza Horizon 5   ...     Luke Reilly\n",
              "4                                   Riders Republic   ...  Travis Northup\n",
              "\n",
              "[5 rows x 8 columns]"
            ]
          },
          "metadata": {},
          "execution_count": 7
        }
      ]
    },
    {
      "cell_type": "code",
      "metadata": {
        "id": "khUr4Kzk_wpD"
      },
      "source": [
        "dataframe.tail()"
      ],
      "execution_count": null,
      "outputs": []
    },
    {
      "cell_type": "code",
      "metadata": {
        "id": "SGgdCN1K_xIE",
        "colab": {
          "base_uri": "https://localhost:8080/"
        },
        "outputId": "5630f6d2-55d3-4e8d-d0a7-13a7a7881111"
      },
      "source": [
        "dataframe.info()"
      ],
      "execution_count": null,
      "outputs": [
        {
          "output_type": "stream",
          "name": "stdout",
          "text": [
            "<class 'pandas.core.frame.DataFrame'>\n",
            "RangeIndex: 236 entries, 0 to 235\n",
            "Data columns (total 8 columns):\n",
            " #   Column        Non-Null Count  Dtype \n",
            "---  ------        --------------  ----- \n",
            " 0   title         236 non-null    object\n",
            " 1   developers    205 non-null    object\n",
            " 2   publishers    232 non-null    object\n",
            " 3   release_date  221 non-null    object\n",
            " 4   platforms     234 non-null    object\n",
            " 5   genres        235 non-null    object\n",
            " 6   score         236 non-null    int64 \n",
            " 7   reviewed_by   236 non-null    object\n",
            "dtypes: int64(1), object(7)\n",
            "memory usage: 14.9+ KB\n"
          ]
        }
      ]
    },
    {
      "cell_type": "code",
      "metadata": {
        "id": "EvXa_IqkQbmr",
        "colab": {
          "base_uri": "https://localhost:8080/"
        },
        "outputId": "3a0a0cb5-d270-4dc0-ce8b-128da840114c"
      },
      "source": [
        "dataframe.isnull().sum()"
      ],
      "execution_count": null,
      "outputs": [
        {
          "output_type": "execute_result",
          "data": {
            "text/plain": [
              "title            0\n",
              "developers      31\n",
              "publishers       4\n",
              "release_date    15\n",
              "platforms        2\n",
              "genres           1\n",
              "score            0\n",
              "reviewed_by      0\n",
              "dtype: int64"
            ]
          },
          "metadata": {},
          "execution_count": 9
        }
      ]
    },
    {
      "cell_type": "code",
      "metadata": {
        "id": "60AFHxbT7Uft"
      },
      "source": [
        "new_dataframe = dataframe.dropna()\n",
        "new_dataframe.to_csv('reviews_non-nulled.csv')"
      ],
      "execution_count": null,
      "outputs": []
    }
  ]
}