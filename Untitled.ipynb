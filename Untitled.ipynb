{
 "cells": [
  {
   "cell_type": "code",
   "execution_count": 21,
   "id": "93c75fd3",
   "metadata": {},
   "outputs": [],
   "source": [
    "import pandas as pd\n",
    "import numpy as np\n",
    "import datetime\n"
   ]
  },
  {
   "cell_type": "code",
   "execution_count": 22,
   "id": "b548a177",
   "metadata": {},
   "outputs": [],
   "source": [
    "ser1=pd.Series([1,2,3])"
   ]
  },
  {
   "cell_type": "code",
   "execution_count": 23,
   "id": "2a7c2953",
   "metadata": {},
   "outputs": [
    {
     "name": "stdout",
     "output_type": "stream",
     "text": [
      "0    1\n",
      "1    2\n",
      "2    3\n",
      "dtype: int64\n"
     ]
    }
   ],
   "source": [
    "print(ser1)"
   ]
  },
  {
   "cell_type": "code",
   "execution_count": 24,
   "id": "e9561e98",
   "metadata": {},
   "outputs": [],
   "source": [
    "ser2 = pd.Series([\"Саша\",\"Маша\",\"Паша\"],index = [\"a\",\"b\",\"c\"])"
   ]
  },
  {
   "cell_type": "code",
   "execution_count": 26,
   "id": "117975e2",
   "metadata": {},
   "outputs": [
    {
     "data": {
      "text/plain": [
       "a    Саша\n",
       "b    Маша\n",
       "c    Паша\n",
       "dtype: object"
      ]
     },
     "execution_count": 26,
     "metadata": {},
     "output_type": "execute_result"
    }
   ],
   "source": [
    "ser2"
   ]
  },
  {
   "cell_type": "code",
   "execution_count": 27,
   "id": "4c16a50f",
   "metadata": {},
   "outputs": [],
   "source": [
    "dates = pd.date_range(\"2021-01-01\", \"2021-01-06\")"
   ]
  },
  {
   "cell_type": "code",
   "execution_count": 28,
   "id": "0d1627ad",
   "metadata": {},
   "outputs": [
    {
     "data": {
      "text/plain": [
       "DatetimeIndex(['2021-01-01', '2021-01-02', '2021-01-03', '2021-01-04',\n",
       "               '2021-01-05', '2021-01-06'],\n",
       "              dtype='datetime64[ns]', freq='D')"
      ]
     },
     "execution_count": 28,
     "metadata": {},
     "output_type": "execute_result"
    }
   ],
   "source": [
    "dates"
   ]
  },
  {
   "cell_type": "code",
   "execution_count": 29,
   "id": "07f40fae",
   "metadata": {},
   "outputs": [],
   "source": [
    "birds = pd.Series([\"Bingo\",\"Dingo\",\"Bob\",\"Dude\",\"Dick\", \"Cock\"],\n",
    "                 index = dates)"
   ]
  },
  {
   "cell_type": "code",
   "execution_count": 30,
   "id": "643feb59",
   "metadata": {
    "scrolled": false
   },
   "outputs": [
    {
     "data": {
      "text/plain": [
       "2021-01-01    Bingo\n",
       "2021-01-02    Dingo\n",
       "2021-01-03      Bob\n",
       "2021-01-04     Dude\n",
       "2021-01-05     Dick\n",
       "2021-01-06     Cock\n",
       "Freq: D, dtype: object"
      ]
     },
     "execution_count": 30,
     "metadata": {},
     "output_type": "execute_result"
    }
   ],
   "source": [
    "birds"
   ]
  },
  {
   "cell_type": "code",
   "execution_count": 34,
   "id": "ef520bac",
   "metadata": {},
   "outputs": [],
   "source": [
    "temp1 = pd.Series([-12,-8,-2,-45,23,12],index  = dates)\n",
    "temp2 = pd.Series([12,3242,45,76,56,12],index  = dates)"
   ]
  },
  {
   "cell_type": "code",
   "execution_count": 35,
   "id": "4c8e6fb2",
   "metadata": {},
   "outputs": [
    {
     "data": {
      "text/plain": [
       "(2021-01-01   -12\n",
       " 2021-01-02    -8\n",
       " 2021-01-03    -2\n",
       " 2021-01-04   -45\n",
       " 2021-01-05    23\n",
       " 2021-01-06    12\n",
       " Freq: D, dtype: int64,\n",
       " 2021-01-01      12\n",
       " 2021-01-02    3242\n",
       " 2021-01-03      45\n",
       " 2021-01-04      76\n",
       " 2021-01-05      56\n",
       " 2021-01-06      12\n",
       " Freq: D, dtype: int64)"
      ]
     },
     "execution_count": 35,
     "metadata": {},
     "output_type": "execute_result"
    }
   ],
   "source": [
    "temp1,temp2"
   ]
  },
  {
   "cell_type": "code",
   "execution_count": 36,
   "id": "836fa4c2",
   "metadata": {},
   "outputs": [
    {
     "data": {
      "text/plain": [
       "2021-01-01     -24\n",
       "2021-01-02   -3250\n",
       "2021-01-03     -47\n",
       "2021-01-04    -121\n",
       "2021-01-05     -33\n",
       "2021-01-06       0\n",
       "Freq: D, dtype: int64"
      ]
     },
     "execution_count": 36,
     "metadata": {},
     "output_type": "execute_result"
    }
   ],
   "source": [
    "temp_dif=temp1-temp2\n",
    "temp_dif"
   ]
  },
  {
   "cell_type": "code",
   "execution_count": 38,
   "id": "735df9e2",
   "metadata": {},
   "outputs": [
    {
     "data": {
      "text/plain": [
       "(-121, -121)"
      ]
     },
     "execution_count": 38,
     "metadata": {},
     "output_type": "execute_result"
    }
   ],
   "source": [
    "temp_dif[3], temp_dif[\"2021-01-04\"]"
   ]
  },
  {
   "cell_type": "code",
   "execution_count": 39,
   "id": "4e402e6a",
   "metadata": {},
   "outputs": [
    {
     "data": {
      "text/plain": [
       "-579.1666666666666"
      ]
     },
     "execution_count": 39,
     "metadata": {},
     "output_type": "execute_result"
    }
   ],
   "source": [
    " temp_dif.mean() # Ср.знач"
   ]
  }
 ],
 "metadata": {
  "kernelspec": {
   "display_name": "Python 3 (ipykernel)",
   "language": "python",
   "name": "python3"
  },
  "language_info": {
   "codemirror_mode": {
    "name": "ipython",
    "version": 3
   },
   "file_extension": ".py",
   "mimetype": "text/x-python",
   "name": "python",
   "nbconvert_exporter": "python",
   "pygments_lexer": "ipython3",
   "version": "3.9.7"
  }
 },
 "nbformat": 4,
 "nbformat_minor": 5
}
